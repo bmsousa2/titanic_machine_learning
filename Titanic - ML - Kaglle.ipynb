{
 "cells": [
  {
   "cell_type": "code",
   "execution_count": 7,
   "metadata": {},
   "outputs": [],
   "source": [
    "import pandas as pd\n",
    "from sklearn.tree import DecisionTreeClassifier\n",
    "\n",
    "#Lendo conjuntos de teste e treino\n",
    "train = pd.read_csv('train.csv')\n",
    "test = pd.read_csv('test.csv')\n",
    "\n",
    "#Cinco primeiras linhas do conjunto de teino\n",
    "train.head()\n",
    "\n",
    "#Retirando colunas com nome, ingresso e cabine dos conjuntos\n",
    "train.drop(['Name','Ticket','Cabin'], axis=1, inplace=True)\n",
    "test.drop(['Name','Ticket','Cabin'], axis=1, inplace=True)\n",
    "\n",
    "#Criação de novo DataFrame a partir de One-hot encoding\n",
    "new_data_train = pd.get_dummies(train)\n",
    "new_data_test = pd.get_dummies(test)\n",
    "\n",
    "#Primeiras linhas do novo dataset de teste\n",
    "new_data_test.head()\n",
    "\n",
    "#Primeiras linhas do novo dataset de treino\n",
    "new_data_train.head()\n",
    "\n",
    "#Quantidade de valores nulos no conjunto de teino\n",
    "new_data_train.isnull().sum().sort_values(ascending=False).head(10)\n",
    "\n",
    "#Preenchendo valores nulos\n",
    "new_data_train['Age'].fillna(new_data_train['Age'].mean(), inplace=True)\n",
    "new_data_test['Age'].fillna(new_data_test['Age'].mean(), inplace=True)\n",
    "\n",
    "#Quantidade de valores nulos no conjunto de teste\n",
    "new_data_test.isnull().sum().sort_values(ascending=False).head(10)\n",
    "\n",
    "#Preenchendo valores nulos\n",
    "new_data_test['Fare'].fillna(new_data_test['Fare'].mean(), inplace=True)\n",
    "\n",
    "#Separando features e target para criação do modelo\n",
    "x = new_data_train.drop('Survived', axis=1)\n",
    "y = new_data_train['Survived']\n",
    "\n",
    "#Criação do modelo\n",
    "tree = DecisionTreeClassifier(max_depth=3, random_state=0)\n",
    "tree.fit(x,y)\n",
    "\n",
    "#Verificando score no conjunto de treino\n",
    "tree.score(x,y)\n",
    "\n",
    "#Criando colunas para o Kaglle\n",
    "submission = pd.DataFrame()\n",
    "submission ['PassengerId'] = new_data_test['PassengerId']\n",
    "submission ['Survived'] = tree.predict(new_data_test)\n",
    "\n",
    "#Importando DataFrame para .csv\n",
    "\n",
    "submission.to_csv('Submission.csv', index=False)"
   ]
  }
 ],
 "metadata": {
  "kernelspec": {
   "display_name": "Python 3",
   "language": "python",
   "name": "python3"
  },
  "language_info": {
   "codemirror_mode": {
    "name": "ipython",
    "version": 3
   },
   "file_extension": ".py",
   "mimetype": "text/x-python",
   "name": "python",
   "nbconvert_exporter": "python",
   "pygments_lexer": "ipython3",
   "version": "3.7.6"
  }
 },
 "nbformat": 4,
 "nbformat_minor": 4
}
